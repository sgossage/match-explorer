{
 "cells": [
  {
   "cell_type": "markdown",
   "metadata": {},
   "source": [
    "# Tutorial: match-explorer.py\n",
    "\n",
    "A brief demonstration of command line usage and currently implemented optional arguments. The script may be run via the following:"
   ]
  },
  {
   "cell_type": "code",
   "execution_count": null,
   "metadata": {
    "scrolled": true
   },
   "outputs": [
    {
     "name": "stdout",
     "output_type": "stream",
     "text": [
      "2018-07-23 15:02:49,621 Starting Bokeh server version 0.12.7 (running on Tornado 4.4.1)\n",
      "2018-07-23 15:02:49,624 Bokeh app running at: http://localhost:5006/match-explorer\n",
      "2018-07-23 15:02:49,624 Starting Bokeh server with process id: 24949\n",
      "Fontconfig warning: \"/etc/fonts/fonts.conf\", line 146: blank doesn't take any effect anymore. please remove it from your fonts.conf\n",
      "ATTENTION: default value of option force_s3tc_enable overridden by environment.\n",
      "Created new window in existing browser session.\n",
      "2018-07-23 15:02:50,971 200 GET /match-explorer (::1) 888.73ms\n",
      "2018-07-23 15:02:51,160 WebSocket connection opened\n",
      "2018-07-23 15:02:51,160 ServerConnection created\n",
      "2018-07-23 15:03:16,428 WebSocket connection closed: code=1001, reason=None\n"
     ]
    }
   ],
   "source": [
    "! bokeh serve --show match-explorer.py"
   ]
  },
  {
   "cell_type": "markdown",
   "metadata": {},
   "source": [
    "___\n",
    "This will run the script and display the Bokeh app.\n",
    "\n",
    "## Optional arguments\n",
    "\n",
    "However, there are several arguments that may be supplied. Running the following will display them:"
   ]
  },
  {
   "cell_type": "code",
   "execution_count": null,
   "metadata": {},
   "outputs": [],
   "source": [
    "! python match-explorer.py --help"
   ]
  },
  {
   "cell_type": "markdown",
   "metadata": {},
   "source": [
    "___\n",
    "These arguments are stated above, but here are some lengthier descriptions: \n",
    "\n",
    "+ **-pf [photfile], --photfile [photfile]**: Used to plot a data set read from **[photfile]**, where **[photfile]** would be the full path to the desired data file. The expected format for the data table is just two columns, the first being magnitudes from a bluer filter and the second column being magnitudes from a redder filter set.\n",
    "\n",
    "\n",
    "\n",
    "+ **-fc [filtercode], --filtercode [filtercode]**: Used to select a preferred filter set for the CMD. The default choice is Tycho B, V; the CMD is always plotted as e.g., B - V vs. V currently. Available filtercodes and their corresponding filter sets are (**[filtercode]**: filter set):\n",
    "    - **BTVT** : Tycho B, V\n",
    "    - **F438F814** : UVIS F438, F814\n",
    "    - **F475F814** : UVIS F475, F814\n",
    "\n",
    "\n",
    "\n",
    "+ **-as [stepsize], --agestep [stepsize]**: Select desired step size for log age sliders. The default is 0.5 spacing, lowest is 0.1, but the grid is currently sparse for space management; not *all* models are present from log age of 8 to 10 in 0.10 spacing, but many are.\n",
    "\n",
    "___\n",
    "## Example Usage\n",
    "\n",
    "Here's an example command line execution using some of these arguments:"
   ]
  },
  {
   "cell_type": "code",
   "execution_count": null,
   "metadata": {},
   "outputs": [],
   "source": [
    "! bokeh serve --show match-explorer.py --args -fc BTVT --agestep 0.10"
   ]
  },
  {
   "cell_type": "code",
   "execution_count": null,
   "metadata": {},
   "outputs": [],
   "source": []
  }
 ],
 "metadata": {
  "kernelspec": {
   "display_name": "Python [conda env:py35]",
   "language": "python",
   "name": "conda-env-py35-py"
  },
  "language_info": {
   "codemirror_mode": {
    "name": "ipython",
    "version": 3
   },
   "file_extension": ".py",
   "mimetype": "text/x-python",
   "name": "python",
   "nbconvert_exporter": "python",
   "pygments_lexer": "ipython3",
   "version": "3.5.4"
  }
 },
 "nbformat": 4,
 "nbformat_minor": 2
}
